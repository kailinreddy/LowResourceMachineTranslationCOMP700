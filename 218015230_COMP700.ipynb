{
  "nbformat": 4,
  "nbformat_minor": 0,
  "metadata": {
    "colab": {
      "provenance": [],
      "collapsed_sections": []
    },
    "kernelspec": {
      "name": "python3",
      "display_name": "Python 3"
    },
    "language_info": {
      "name": "python"
    },
    "accelerator": "GPU",
    "gpuClass": "standard"
  },
  "cells": [
    {
      "cell_type": "code",
      "execution_count": null,
      "metadata": {
        "colab": {
          "base_uri": "https://localhost:8080/"
        },
        "id": "1msyoDE1rZDC",
        "outputId": "a8418524-0973-4c50-f16d-a5a7ceb55b88"
      },
      "outputs": [
        {
          "output_type": "stream",
          "name": "stdout",
          "text": [
            "Mounted at /content/drive\n"
          ]
        }
      ],
      "source": [
        "# 218015230 - Kailin Reddy\n",
        "# Low resource machine translation\n",
        "\n",
        "from google.colab import drive\n",
        "drive.mount('/content/drive')"
      ]
    },
    {
      "cell_type": "code",
      "source": [
        "import numpy as np # linear algebra\n",
        "import pandas as pd # data processing, CSV file I/O (e.g. pd.read_csv)\n",
        "import re\n",
        "import string\n",
        "from string import digits\n",
        "import seaborn as sns\n",
        "from sklearn.utils import shuffle\n",
        "from sklearn.model_selection import train_test_split\n",
        "from keras.layers import Input, LSTM, Embedding, Dense\n",
        "from keras.models import Model\n",
        "import tensorflow as tf\n",
        "from tensorflow.keras import layers\n",
        "import matplotlib.pyplot as plt\n"
      ],
      "metadata": {
        "id": "v8xAZwTWrrXJ"
      },
      "execution_count": null,
      "outputs": []
    },
    {
      "cell_type": "code",
      "source": [
        "d = pd.read_excel('/content/drive/MyDrive/COMP700/1-2.xlsx')\n",
        "d.head()"
      ],
      "metadata": {
        "colab": {
          "base_uri": "https://localhost:8080/",
          "height": 206
        },
        "id": "CKKbK8NHrgiF",
        "outputId": "a3f1c881-b680-4c41-ec3c-56c4bce06e0e"
      },
      "execution_count": null,
      "outputs": [
        {
          "output_type": "execute_result",
          "data": {
            "text/plain": [
              "             Source.Name                                            Column1  \\\n",
              "0  englishzulu00001.xlsx  UKZN Lecturer Wins Best Animated Film Award at...   \n",
              "1  englishzulu00001.xlsx  Lecturer in the School of Arts Ms Michelle Ste...   \n",
              "2  englishzulu00001.xlsx  The film was selected from 857 international e...   \n",
              "3  englishzulu00001.xlsx  ‘I am still in disbelief but really excited th...   \n",
              "4  englishzulu00001.xlsx  ‘I was very surprised to win as I wasn’t expec...   \n",
              "\n",
              "                                             Column2  \n",
              "0  Uthisha wase-UKZN Uhlabane Ngendondo Yefilimu ...  \n",
              "1  Uthisha waseSikoleni SezobuCiko uNkz Michelle ...  \n",
              "2  Leli filimu likhethwe kwangama-857 njengelivel...  \n",
              "3  ‘Angikakakholwa namanje kodwa ngithokoze kakhu...  \n",
              "4              ‘Bengingakulindele ukunqoba nhlobo.’   "
            ],
            "text/html": [
              "\n",
              "  <div id=\"df-730c266c-93e4-4855-b269-92de74d8ab0a\">\n",
              "    <div class=\"colab-df-container\">\n",
              "      <div>\n",
              "<style scoped>\n",
              "    .dataframe tbody tr th:only-of-type {\n",
              "        vertical-align: middle;\n",
              "    }\n",
              "\n",
              "    .dataframe tbody tr th {\n",
              "        vertical-align: top;\n",
              "    }\n",
              "\n",
              "    .dataframe thead th {\n",
              "        text-align: right;\n",
              "    }\n",
              "</style>\n",
              "<table border=\"1\" class=\"dataframe\">\n",
              "  <thead>\n",
              "    <tr style=\"text-align: right;\">\n",
              "      <th></th>\n",
              "      <th>Source.Name</th>\n",
              "      <th>Column1</th>\n",
              "      <th>Column2</th>\n",
              "    </tr>\n",
              "  </thead>\n",
              "  <tbody>\n",
              "    <tr>\n",
              "      <th>0</th>\n",
              "      <td>englishzulu00001.xlsx</td>\n",
              "      <td>UKZN Lecturer Wins Best Animated Film Award at...</td>\n",
              "      <td>Uthisha wase-UKZN Uhlabane Ngendondo Yefilimu ...</td>\n",
              "    </tr>\n",
              "    <tr>\n",
              "      <th>1</th>\n",
              "      <td>englishzulu00001.xlsx</td>\n",
              "      <td>Lecturer in the School of Arts Ms Michelle Ste...</td>\n",
              "      <td>Uthisha waseSikoleni SezobuCiko uNkz Michelle ...</td>\n",
              "    </tr>\n",
              "    <tr>\n",
              "      <th>2</th>\n",
              "      <td>englishzulu00001.xlsx</td>\n",
              "      <td>The film was selected from 857 international e...</td>\n",
              "      <td>Leli filimu likhethwe kwangama-857 njengelivel...</td>\n",
              "    </tr>\n",
              "    <tr>\n",
              "      <th>3</th>\n",
              "      <td>englishzulu00001.xlsx</td>\n",
              "      <td>‘I am still in disbelief but really excited th...</td>\n",
              "      <td>‘Angikakakholwa namanje kodwa ngithokoze kakhu...</td>\n",
              "    </tr>\n",
              "    <tr>\n",
              "      <th>4</th>\n",
              "      <td>englishzulu00001.xlsx</td>\n",
              "      <td>‘I was very surprised to win as I wasn’t expec...</td>\n",
              "      <td>‘Bengingakulindele ukunqoba nhlobo.’</td>\n",
              "    </tr>\n",
              "  </tbody>\n",
              "</table>\n",
              "</div>\n",
              "      <button class=\"colab-df-convert\" onclick=\"convertToInteractive('df-730c266c-93e4-4855-b269-92de74d8ab0a')\"\n",
              "              title=\"Convert this dataframe to an interactive table.\"\n",
              "              style=\"display:none;\">\n",
              "        \n",
              "  <svg xmlns=\"http://www.w3.org/2000/svg\" height=\"24px\"viewBox=\"0 0 24 24\"\n",
              "       width=\"24px\">\n",
              "    <path d=\"M0 0h24v24H0V0z\" fill=\"none\"/>\n",
              "    <path d=\"M18.56 5.44l.94 2.06.94-2.06 2.06-.94-2.06-.94-.94-2.06-.94 2.06-2.06.94zm-11 1L8.5 8.5l.94-2.06 2.06-.94-2.06-.94L8.5 2.5l-.94 2.06-2.06.94zm10 10l.94 2.06.94-2.06 2.06-.94-2.06-.94-.94-2.06-.94 2.06-2.06.94z\"/><path d=\"M17.41 7.96l-1.37-1.37c-.4-.4-.92-.59-1.43-.59-.52 0-1.04.2-1.43.59L10.3 9.45l-7.72 7.72c-.78.78-.78 2.05 0 2.83L4 21.41c.39.39.9.59 1.41.59.51 0 1.02-.2 1.41-.59l7.78-7.78 2.81-2.81c.8-.78.8-2.07 0-2.86zM5.41 20L4 18.59l7.72-7.72 1.47 1.35L5.41 20z\"/>\n",
              "  </svg>\n",
              "      </button>\n",
              "      \n",
              "  <style>\n",
              "    .colab-df-container {\n",
              "      display:flex;\n",
              "      flex-wrap:wrap;\n",
              "      gap: 12px;\n",
              "    }\n",
              "\n",
              "    .colab-df-convert {\n",
              "      background-color: #E8F0FE;\n",
              "      border: none;\n",
              "      border-radius: 50%;\n",
              "      cursor: pointer;\n",
              "      display: none;\n",
              "      fill: #1967D2;\n",
              "      height: 32px;\n",
              "      padding: 0 0 0 0;\n",
              "      width: 32px;\n",
              "    }\n",
              "\n",
              "    .colab-df-convert:hover {\n",
              "      background-color: #E2EBFA;\n",
              "      box-shadow: 0px 1px 2px rgba(60, 64, 67, 0.3), 0px 1px 3px 1px rgba(60, 64, 67, 0.15);\n",
              "      fill: #174EA6;\n",
              "    }\n",
              "\n",
              "    [theme=dark] .colab-df-convert {\n",
              "      background-color: #3B4455;\n",
              "      fill: #D2E3FC;\n",
              "    }\n",
              "\n",
              "    [theme=dark] .colab-df-convert:hover {\n",
              "      background-color: #434B5C;\n",
              "      box-shadow: 0px 1px 3px 1px rgba(0, 0, 0, 0.15);\n",
              "      filter: drop-shadow(0px 1px 2px rgba(0, 0, 0, 0.3));\n",
              "      fill: #FFFFFF;\n",
              "    }\n",
              "  </style>\n",
              "\n",
              "      <script>\n",
              "        const buttonEl =\n",
              "          document.querySelector('#df-730c266c-93e4-4855-b269-92de74d8ab0a button.colab-df-convert');\n",
              "        buttonEl.style.display =\n",
              "          google.colab.kernel.accessAllowed ? 'block' : 'none';\n",
              "\n",
              "        async function convertToInteractive(key) {\n",
              "          const element = document.querySelector('#df-730c266c-93e4-4855-b269-92de74d8ab0a');\n",
              "          const dataTable =\n",
              "            await google.colab.kernel.invokeFunction('convertToInteractive',\n",
              "                                                     [key], {});\n",
              "          if (!dataTable) return;\n",
              "\n",
              "          const docLinkHtml = 'Like what you see? Visit the ' +\n",
              "            '<a target=\"_blank\" href=https://colab.research.google.com/notebooks/data_table.ipynb>data table notebook</a>'\n",
              "            + ' to learn more about interactive tables.';\n",
              "          element.innerHTML = '';\n",
              "          dataTable['output_type'] = 'display_data';\n",
              "          await google.colab.output.renderOutput(dataTable, element);\n",
              "          const docLink = document.createElement('div');\n",
              "          docLink.innerHTML = docLinkHtml;\n",
              "          element.appendChild(docLink);\n",
              "        }\n",
              "      </script>\n",
              "    </div>\n",
              "  </div>\n",
              "  "
            ]
          },
          "metadata": {},
          "execution_count": 4
        }
      ]
    },
    {
      "cell_type": "code",
      "source": [
        "d.drop('Source.Name', inplace = True, axis=1)\n",
        "d.columns = ['English', 'isiZulu']\n",
        "d.head()"
      ],
      "metadata": {
        "colab": {
          "base_uri": "https://localhost:8080/",
          "height": 206
        },
        "id": "MPIge-wd2r4s",
        "outputId": "95540f04-bcfb-4d70-ed5c-937fe2636938"
      },
      "execution_count": null,
      "outputs": [
        {
          "output_type": "execute_result",
          "data": {
            "text/plain": [
              "                                             English  \\\n",
              "0  UKZN Lecturer Wins Best Animated Film Award at...   \n",
              "1  Lecturer in the School of Arts Ms Michelle Ste...   \n",
              "2  The film was selected from 857 international e...   \n",
              "3  ‘I am still in disbelief but really excited th...   \n",
              "4  ‘I was very surprised to win as I wasn’t expec...   \n",
              "\n",
              "                                             isiZulu  \n",
              "0  Uthisha wase-UKZN Uhlabane Ngendondo Yefilimu ...  \n",
              "1  Uthisha waseSikoleni SezobuCiko uNkz Michelle ...  \n",
              "2  Leli filimu likhethwe kwangama-857 njengelivel...  \n",
              "3  ‘Angikakakholwa namanje kodwa ngithokoze kakhu...  \n",
              "4              ‘Bengingakulindele ukunqoba nhlobo.’   "
            ],
            "text/html": [
              "\n",
              "  <div id=\"df-60ab89ae-9a3f-4572-b49a-7ff04b3a725c\">\n",
              "    <div class=\"colab-df-container\">\n",
              "      <div>\n",
              "<style scoped>\n",
              "    .dataframe tbody tr th:only-of-type {\n",
              "        vertical-align: middle;\n",
              "    }\n",
              "\n",
              "    .dataframe tbody tr th {\n",
              "        vertical-align: top;\n",
              "    }\n",
              "\n",
              "    .dataframe thead th {\n",
              "        text-align: right;\n",
              "    }\n",
              "</style>\n",
              "<table border=\"1\" class=\"dataframe\">\n",
              "  <thead>\n",
              "    <tr style=\"text-align: right;\">\n",
              "      <th></th>\n",
              "      <th>English</th>\n",
              "      <th>isiZulu</th>\n",
              "    </tr>\n",
              "  </thead>\n",
              "  <tbody>\n",
              "    <tr>\n",
              "      <th>0</th>\n",
              "      <td>UKZN Lecturer Wins Best Animated Film Award at...</td>\n",
              "      <td>Uthisha wase-UKZN Uhlabane Ngendondo Yefilimu ...</td>\n",
              "    </tr>\n",
              "    <tr>\n",
              "      <th>1</th>\n",
              "      <td>Lecturer in the School of Arts Ms Michelle Ste...</td>\n",
              "      <td>Uthisha waseSikoleni SezobuCiko uNkz Michelle ...</td>\n",
              "    </tr>\n",
              "    <tr>\n",
              "      <th>2</th>\n",
              "      <td>The film was selected from 857 international e...</td>\n",
              "      <td>Leli filimu likhethwe kwangama-857 njengelivel...</td>\n",
              "    </tr>\n",
              "    <tr>\n",
              "      <th>3</th>\n",
              "      <td>‘I am still in disbelief but really excited th...</td>\n",
              "      <td>‘Angikakakholwa namanje kodwa ngithokoze kakhu...</td>\n",
              "    </tr>\n",
              "    <tr>\n",
              "      <th>4</th>\n",
              "      <td>‘I was very surprised to win as I wasn’t expec...</td>\n",
              "      <td>‘Bengingakulindele ukunqoba nhlobo.’</td>\n",
              "    </tr>\n",
              "  </tbody>\n",
              "</table>\n",
              "</div>\n",
              "      <button class=\"colab-df-convert\" onclick=\"convertToInteractive('df-60ab89ae-9a3f-4572-b49a-7ff04b3a725c')\"\n",
              "              title=\"Convert this dataframe to an interactive table.\"\n",
              "              style=\"display:none;\">\n",
              "        \n",
              "  <svg xmlns=\"http://www.w3.org/2000/svg\" height=\"24px\"viewBox=\"0 0 24 24\"\n",
              "       width=\"24px\">\n",
              "    <path d=\"M0 0h24v24H0V0z\" fill=\"none\"/>\n",
              "    <path d=\"M18.56 5.44l.94 2.06.94-2.06 2.06-.94-2.06-.94-.94-2.06-.94 2.06-2.06.94zm-11 1L8.5 8.5l.94-2.06 2.06-.94-2.06-.94L8.5 2.5l-.94 2.06-2.06.94zm10 10l.94 2.06.94-2.06 2.06-.94-2.06-.94-.94-2.06-.94 2.06-2.06.94z\"/><path d=\"M17.41 7.96l-1.37-1.37c-.4-.4-.92-.59-1.43-.59-.52 0-1.04.2-1.43.59L10.3 9.45l-7.72 7.72c-.78.78-.78 2.05 0 2.83L4 21.41c.39.39.9.59 1.41.59.51 0 1.02-.2 1.41-.59l7.78-7.78 2.81-2.81c.8-.78.8-2.07 0-2.86zM5.41 20L4 18.59l7.72-7.72 1.47 1.35L5.41 20z\"/>\n",
              "  </svg>\n",
              "      </button>\n",
              "      \n",
              "  <style>\n",
              "    .colab-df-container {\n",
              "      display:flex;\n",
              "      flex-wrap:wrap;\n",
              "      gap: 12px;\n",
              "    }\n",
              "\n",
              "    .colab-df-convert {\n",
              "      background-color: #E8F0FE;\n",
              "      border: none;\n",
              "      border-radius: 50%;\n",
              "      cursor: pointer;\n",
              "      display: none;\n",
              "      fill: #1967D2;\n",
              "      height: 32px;\n",
              "      padding: 0 0 0 0;\n",
              "      width: 32px;\n",
              "    }\n",
              "\n",
              "    .colab-df-convert:hover {\n",
              "      background-color: #E2EBFA;\n",
              "      box-shadow: 0px 1px 2px rgba(60, 64, 67, 0.3), 0px 1px 3px 1px rgba(60, 64, 67, 0.15);\n",
              "      fill: #174EA6;\n",
              "    }\n",
              "\n",
              "    [theme=dark] .colab-df-convert {\n",
              "      background-color: #3B4455;\n",
              "      fill: #D2E3FC;\n",
              "    }\n",
              "\n",
              "    [theme=dark] .colab-df-convert:hover {\n",
              "      background-color: #434B5C;\n",
              "      box-shadow: 0px 1px 3px 1px rgba(0, 0, 0, 0.15);\n",
              "      filter: drop-shadow(0px 1px 2px rgba(0, 0, 0, 0.3));\n",
              "      fill: #FFFFFF;\n",
              "    }\n",
              "  </style>\n",
              "\n",
              "      <script>\n",
              "        const buttonEl =\n",
              "          document.querySelector('#df-60ab89ae-9a3f-4572-b49a-7ff04b3a725c button.colab-df-convert');\n",
              "        buttonEl.style.display =\n",
              "          google.colab.kernel.accessAllowed ? 'block' : 'none';\n",
              "\n",
              "        async function convertToInteractive(key) {\n",
              "          const element = document.querySelector('#df-60ab89ae-9a3f-4572-b49a-7ff04b3a725c');\n",
              "          const dataTable =\n",
              "            await google.colab.kernel.invokeFunction('convertToInteractive',\n",
              "                                                     [key], {});\n",
              "          if (!dataTable) return;\n",
              "\n",
              "          const docLinkHtml = 'Like what you see? Visit the ' +\n",
              "            '<a target=\"_blank\" href=https://colab.research.google.com/notebooks/data_table.ipynb>data table notebook</a>'\n",
              "            + ' to learn more about interactive tables.';\n",
              "          element.innerHTML = '';\n",
              "          dataTable['output_type'] = 'display_data';\n",
              "          await google.colab.output.renderOutput(dataTable, element);\n",
              "          const docLink = document.createElement('div');\n",
              "          docLink.innerHTML = docLinkHtml;\n",
              "          element.appendChild(docLink);\n",
              "        }\n",
              "      </script>\n",
              "    </div>\n",
              "  </div>\n",
              "  "
            ]
          },
          "metadata": {},
          "execution_count": 5
        }
      ]
    },
    {
      "cell_type": "code",
      "source": [
        "d = d[~pd.isnull(d['English'])]\n",
        "d.drop_duplicates(inplace=True)\n",
        "d[['English']] = d[['English']].astype(str)\n",
        "d[['isiZulu']] = d[['isiZulu']].astype(str)\n",
        "\n",
        "spcl = set(string.punctuation) #Special chars\n",
        "dgt = str.maketrans('', '', digits) #Digits\n",
        "\n",
        "# Convert to lowercase\n",
        "d['English']=d['English'].apply(lambda x: x.lower())\n",
        "d['isiZulu']=d['isiZulu'].apply(lambda x: x.lower())\n",
        "\n",
        "# Remove quotes\n",
        "d['English']=d['English'].apply(lambda x: re.sub(\"'\", '', x))\n",
        "d['isiZulu']=d['isiZulu'].apply(lambda x: re.sub(\"'\", '', x))\n",
        "\n",
        "#Remove all special chars\n",
        "d['English']=d['English'].apply(lambda x: ''.join(ch for ch in x if ch not in spcl))\n",
        "d['isiZulu']=d['isiZulu'].apply(lambda x: ''.join(ch for ch in x if ch not in spcl))\n",
        "\n",
        "# Remove all numbers\n",
        "d['English']=d['English'].apply(lambda x: x.translate(dgt))\n",
        "d['isiZulu']=d['isiZulu'].apply(lambda x: x.translate(dgt))\n",
        "\n",
        "# Remove extra spaces\n",
        "d['English']=d['English'].apply(lambda x: x.strip())\n",
        "d['isiZulu']=d['isiZulu'].apply(lambda x: x.strip())\n",
        "d['English']=d['English'].apply(lambda x: re.sub(\" +\", \" \", x))\n",
        "d['isiZulu']=d['isiZulu'].apply(lambda x: re.sub(\" +\", \" \", x))\n",
        "\n",
        "d['isiZulu'] = d['isiZulu'].apply(lambda x: 'START_ ' + x + ' _END')\n",
        "\n",
        "d['English length'] = d['English'].apply(lambda x:len(x.split(\" \")))\n",
        "d['isiZulu length'] = d['isiZulu'].apply(lambda x:len(x.split(\" \")))\n",
        "d.shape\n"
      ],
      "metadata": {
        "colab": {
          "base_uri": "https://localhost:8080/"
        },
        "id": "0cjnPpfA0XBf",
        "outputId": "d2ef29f7-f462-4f0d-de08-5cf6cb9072ac"
      },
      "execution_count": null,
      "outputs": [
        {
          "output_type": "execute_result",
          "data": {
            "text/plain": [
              "(6993, 4)"
            ]
          },
          "metadata": {},
          "execution_count": 7
        }
      ]
    },
    {
      "cell_type": "code",
      "source": [
        "d.head()"
      ],
      "metadata": {
        "id": "jRWRkoI25klg"
      },
      "execution_count": null,
      "outputs": []
    },
    {
      "cell_type": "code",
      "source": [
        "allEngWords = set()\n",
        "for e in d['English']:\n",
        "  for word in e.split():\n",
        "    if word not in allEngWords:\n",
        "      allEngWords.add(word)\n",
        "\n",
        "allZuluWords = set()\n",
        "for z in d['isiZulu']:\n",
        "  for word in z.split():\n",
        "    if word not in allZuluWords:\n",
        "      allZuluWords.add(word)"
      ],
      "metadata": {
        "id": "OMH2aFrC013J"
      },
      "execution_count": null,
      "outputs": []
    },
    {
      "cell_type": "code",
      "source": [
        "text_map = {'English': d['English'], 'isiZulu':d['isiZulu']}\n",
        "\n",
        "def dataframe_text(text_map):\n",
        "    text_df=pd.DataFrame(text_map,columns=text_map.keys())\n",
        "    for key in text_map.keys():\n",
        "        text_df[key+' length']=text_df[key].apply(lambda text:len(text.split()))\n",
        "    text_df=text_df.sample(frac=1)\n",
        "    return text_df\n",
        "\n",
        "text_df=dataframe_text(text_map)\n",
        "text_df.head()"
      ],
      "metadata": {
        "id": "H_hVEx6_yUSC",
        "colab": {
          "base_uri": "https://localhost:8080/",
          "height": 206
        },
        "outputId": "2a472e66-7e24-44ee-eb13-5953592a82f5"
      },
      "execution_count": null,
      "outputs": [
        {
          "output_type": "execute_result",
          "data": {
            "text/plain": [
              "                                                English  \\\n",
              "1934  in their hectic schedule of marketing their ne...   \n",
              "2958  i am interested in finding ways to improve hea...   \n",
              "2479  as we discuss the story of the blind men and t...   \n",
              "2723  the xhosa were a great people – tall athletic ...   \n",
              "7251  • completion of a bed undergraduate residence ...   \n",
              "\n",
              "                                                isiZulu  English length  \\\n",
              "1934  START_ ohlelweni lwabo olumatasa lokukhangisa ...              27   \n",
              "2958  START_ nginesifiso sokuthola izindlela zokuthu...              16   \n",
              "2479  START_ njengoba sichaza indaba yamadoda ayizim...              24   \n",
              "2723  START_ abakwaxhosa babengabantu abakhulu – beb...              13   \n",
              "7251  START_ • ukuphothulwa okungama kwendawo yokuhl...              12   \n",
              "\n",
              "      isiZulu length  \n",
              "1934              23  \n",
              "2958              11  \n",
              "2479              14  \n",
              "2723              11  \n",
              "7251              13  "
            ],
            "text/html": [
              "\n",
              "  <div id=\"df-cbd1cf3a-2515-4568-a5df-76c82f02a248\">\n",
              "    <div class=\"colab-df-container\">\n",
              "      <div>\n",
              "<style scoped>\n",
              "    .dataframe tbody tr th:only-of-type {\n",
              "        vertical-align: middle;\n",
              "    }\n",
              "\n",
              "    .dataframe tbody tr th {\n",
              "        vertical-align: top;\n",
              "    }\n",
              "\n",
              "    .dataframe thead th {\n",
              "        text-align: right;\n",
              "    }\n",
              "</style>\n",
              "<table border=\"1\" class=\"dataframe\">\n",
              "  <thead>\n",
              "    <tr style=\"text-align: right;\">\n",
              "      <th></th>\n",
              "      <th>English</th>\n",
              "      <th>isiZulu</th>\n",
              "      <th>English length</th>\n",
              "      <th>isiZulu length</th>\n",
              "    </tr>\n",
              "  </thead>\n",
              "  <tbody>\n",
              "    <tr>\n",
              "      <th>1934</th>\n",
              "      <td>in their hectic schedule of marketing their ne...</td>\n",
              "      <td>START_ ohlelweni lwabo olumatasa lokukhangisa ...</td>\n",
              "      <td>27</td>\n",
              "      <td>23</td>\n",
              "    </tr>\n",
              "    <tr>\n",
              "      <th>2958</th>\n",
              "      <td>i am interested in finding ways to improve hea...</td>\n",
              "      <td>START_ nginesifiso sokuthola izindlela zokuthu...</td>\n",
              "      <td>16</td>\n",
              "      <td>11</td>\n",
              "    </tr>\n",
              "    <tr>\n",
              "      <th>2479</th>\n",
              "      <td>as we discuss the story of the blind men and t...</td>\n",
              "      <td>START_ njengoba sichaza indaba yamadoda ayizim...</td>\n",
              "      <td>24</td>\n",
              "      <td>14</td>\n",
              "    </tr>\n",
              "    <tr>\n",
              "      <th>2723</th>\n",
              "      <td>the xhosa were a great people – tall athletic ...</td>\n",
              "      <td>START_ abakwaxhosa babengabantu abakhulu – beb...</td>\n",
              "      <td>13</td>\n",
              "      <td>11</td>\n",
              "    </tr>\n",
              "    <tr>\n",
              "      <th>7251</th>\n",
              "      <td>• completion of a bed undergraduate residence ...</td>\n",
              "      <td>START_ • ukuphothulwa okungama kwendawo yokuhl...</td>\n",
              "      <td>12</td>\n",
              "      <td>13</td>\n",
              "    </tr>\n",
              "  </tbody>\n",
              "</table>\n",
              "</div>\n",
              "      <button class=\"colab-df-convert\" onclick=\"convertToInteractive('df-cbd1cf3a-2515-4568-a5df-76c82f02a248')\"\n",
              "              title=\"Convert this dataframe to an interactive table.\"\n",
              "              style=\"display:none;\">\n",
              "        \n",
              "  <svg xmlns=\"http://www.w3.org/2000/svg\" height=\"24px\"viewBox=\"0 0 24 24\"\n",
              "       width=\"24px\">\n",
              "    <path d=\"M0 0h24v24H0V0z\" fill=\"none\"/>\n",
              "    <path d=\"M18.56 5.44l.94 2.06.94-2.06 2.06-.94-2.06-.94-.94-2.06-.94 2.06-2.06.94zm-11 1L8.5 8.5l.94-2.06 2.06-.94-2.06-.94L8.5 2.5l-.94 2.06-2.06.94zm10 10l.94 2.06.94-2.06 2.06-.94-2.06-.94-.94-2.06-.94 2.06-2.06.94z\"/><path d=\"M17.41 7.96l-1.37-1.37c-.4-.4-.92-.59-1.43-.59-.52 0-1.04.2-1.43.59L10.3 9.45l-7.72 7.72c-.78.78-.78 2.05 0 2.83L4 21.41c.39.39.9.59 1.41.59.51 0 1.02-.2 1.41-.59l7.78-7.78 2.81-2.81c.8-.78.8-2.07 0-2.86zM5.41 20L4 18.59l7.72-7.72 1.47 1.35L5.41 20z\"/>\n",
              "  </svg>\n",
              "      </button>\n",
              "      \n",
              "  <style>\n",
              "    .colab-df-container {\n",
              "      display:flex;\n",
              "      flex-wrap:wrap;\n",
              "      gap: 12px;\n",
              "    }\n",
              "\n",
              "    .colab-df-convert {\n",
              "      background-color: #E8F0FE;\n",
              "      border: none;\n",
              "      border-radius: 50%;\n",
              "      cursor: pointer;\n",
              "      display: none;\n",
              "      fill: #1967D2;\n",
              "      height: 32px;\n",
              "      padding: 0 0 0 0;\n",
              "      width: 32px;\n",
              "    }\n",
              "\n",
              "    .colab-df-convert:hover {\n",
              "      background-color: #E2EBFA;\n",
              "      box-shadow: 0px 1px 2px rgba(60, 64, 67, 0.3), 0px 1px 3px 1px rgba(60, 64, 67, 0.15);\n",
              "      fill: #174EA6;\n",
              "    }\n",
              "\n",
              "    [theme=dark] .colab-df-convert {\n",
              "      background-color: #3B4455;\n",
              "      fill: #D2E3FC;\n",
              "    }\n",
              "\n",
              "    [theme=dark] .colab-df-convert:hover {\n",
              "      background-color: #434B5C;\n",
              "      box-shadow: 0px 1px 3px 1px rgba(0, 0, 0, 0.15);\n",
              "      filter: drop-shadow(0px 1px 2px rgba(0, 0, 0, 0.3));\n",
              "      fill: #FFFFFF;\n",
              "    }\n",
              "  </style>\n",
              "\n",
              "      <script>\n",
              "        const buttonEl =\n",
              "          document.querySelector('#df-cbd1cf3a-2515-4568-a5df-76c82f02a248 button.colab-df-convert');\n",
              "        buttonEl.style.display =\n",
              "          google.colab.kernel.accessAllowed ? 'block' : 'none';\n",
              "\n",
              "        async function convertToInteractive(key) {\n",
              "          const element = document.querySelector('#df-cbd1cf3a-2515-4568-a5df-76c82f02a248');\n",
              "          const dataTable =\n",
              "            await google.colab.kernel.invokeFunction('convertToInteractive',\n",
              "                                                     [key], {});\n",
              "          if (!dataTable) return;\n",
              "\n",
              "          const docLinkHtml = 'Like what you see? Visit the ' +\n",
              "            '<a target=\"_blank\" href=https://colab.research.google.com/notebooks/data_table.ipynb>data table notebook</a>'\n",
              "            + ' to learn more about interactive tables.';\n",
              "          element.innerHTML = '';\n",
              "          dataTable['output_type'] = 'display_data';\n",
              "          await google.colab.output.renderOutput(dataTable, element);\n",
              "          const docLink = document.createElement('div');\n",
              "          docLink.innerHTML = docLinkHtml;\n",
              "          element.appendChild(docLink);\n",
              "        }\n",
              "      </script>\n",
              "    </div>\n",
              "  </div>\n",
              "  "
            ]
          },
          "metadata": {},
          "execution_count": 7
        }
      ]
    },
    {
      "cell_type": "code",
      "source": [
        "encoder_seq_length=max(text_df['English length'])\n",
        "decoder_seq_length=max(text_df['isiZulu length'])\n",
        "\n",
        "num_encoder_tokens=len(allEngWords)\n",
        "num_decoder_tokens=len(allZuluWords)+1"
      ],
      "metadata": {
        "id": "eHpvakoezh0G"
      },
      "execution_count": null,
      "outputs": []
    },
    {
      "cell_type": "code",
      "source": [
        "english_lookup_table={word:num for num,word in enumerate(allEngWords)}\n",
        "zulu_lookup_table={word:num+1 for num,word in enumerate(allZuluWords)}"
      ],
      "metadata": {
        "id": "YQgH6pDG1d9p"
      },
      "execution_count": null,
      "outputs": []
    },
    {
      "cell_type": "code",
      "source": [
        "english_token_lookup_table={num:word for word,num in english_lookup_table.items()}\n",
        "zulu_token_lookup_table={num:word for word,num in zulu_lookup_table.items()}"
      ],
      "metadata": {
        "id": "StCVmxyk1pI9"
      },
      "execution_count": null,
      "outputs": []
    },
    {
      "cell_type": "code",
      "source": [
        "def generate_batch(X,y,batch_size=32):\n",
        "    while True:\n",
        "        for i in range(0,len(X),batch_size):\n",
        "            encoder_input_vector=np.zeros((batch_size,encoder_seq_length),dtype=np.float32)\n",
        "            decoder_input_vector=np.zeros((batch_size,decoder_seq_length),dtype=np.float32)\n",
        "            decoder_target_vector=np.zeros((batch_size,decoder_seq_length,num_decoder_tokens),dtype=np.float32)\n",
        "            for j,(encoder_text,decoder_text) in enumerate(zip(X[i:i+batch_size],y[i:i+batch_size])):\n",
        "                for time_step,encoder_word in enumerate(encoder_text.split()):\n",
        "                    encoder_input_vector[j,time_step]=english_lookup_table[encoder_word]\n",
        "                for time_step,decoder_word in enumerate(decoder_text.split()):\n",
        "                    if time_step<len(decoder_text.split())-1:\n",
        "                        decoder_input_vector[j,time_step]=zulu_lookup_table[decoder_word]\n",
        "                    if time_step>0:\n",
        "                        decoder_target_vector[j,time_step-1,zulu_lookup_table[decoder_word]]=1\n",
        "            yield ([encoder_input_vector,decoder_input_vector],decoder_target_vector)"
      ],
      "metadata": {
        "id": "04FmCKG61uzt"
      },
      "execution_count": null,
      "outputs": []
    },
    {
      "cell_type": "code",
      "source": [
        "X=list(text_df['English'])\n",
        "y=list(text_df['isiZulu'])"
      ],
      "metadata": {
        "id": "gWaScgH-11Cl"
      },
      "execution_count": null,
      "outputs": []
    },
    {
      "cell_type": "code",
      "source": [
        "X_train=X[:len(X)*80//100]\n",
        "y_train=y[:len(y)*80//100]\n",
        "X_valid=X[80*len(X)//100:]\n",
        "y_valid=y[80*len(y)//100:]\n",
        "\n",
        "latent_dim=512\n",
        "embedding_dim=256\n",
        "batch_size=128"
      ],
      "metadata": {
        "id": "-fSBcNKo2Cg7"
      },
      "execution_count": null,
      "outputs": []
    },
    {
      "cell_type": "code",
      "source": [
        "encoder_inputs=layers.Input(shape=(None,))\n",
        "encoder_embedding_layer=layers.Embedding(\n",
        "    input_dim=num_encoder_tokens,output_dim=embedding_dim,\n",
        "    mask_zero=True\n",
        ")\n",
        "encoder_embeddings=encoder_embedding_layer(encoder_inputs)\n",
        "encoder_lstm=layers.Bidirectional(layers.LSTM(units=latent_dim,return_state=True))\n",
        "_,encoder_hidden_state1,encoder_cell_state1,encoder_hidden_state2,encoder_cell_state2=encoder_lstm(encoder_embeddings)\n",
        "encoder_state=[encoder_hidden_state1+encoder_hidden_state2,encoder_cell_state1+encoder_cell_state2]\n",
        "\n",
        "\n",
        "decoder_inputs=layers.Input(shape=(None,))\n",
        "decoder_embedding_layer=layers.Embedding(\n",
        "    input_dim=num_decoder_tokens,output_dim=embedding_dim,\n",
        "    mask_zero=True\n",
        ")\n",
        "decoder_embeddings=decoder_embedding_layer(decoder_inputs)\n",
        "decoder_lstm=layers.LSTM(units=latent_dim,return_sequences=True,return_state=True)\n",
        "decoder_output,_,_=decoder_lstm(decoder_embeddings,initial_state=encoder_state)\n",
        "output_layer=layers.Dense(units=num_decoder_tokens)\n",
        "decoder_output=output_layer(decoder_output)\n",
        "output_probs=tf.nn.softmax(decoder_output)\n",
        "\n",
        "\n",
        "model=tf.keras.models.Model(inputs=(encoder_inputs,decoder_inputs),outputs=output_probs)\n",
        "model.summary()"
      ],
      "metadata": {
        "colab": {
          "base_uri": "https://localhost:8080/"
        },
        "id": "0RitvvRx2HH3",
        "outputId": "8627889d-f4fd-436b-ec4e-29c9d7aef1d0"
      },
      "execution_count": null,
      "outputs": [
        {
          "output_type": "stream",
          "name": "stdout",
          "text": [
            "Model: \"model\"\n",
            "__________________________________________________________________________________________________\n",
            " Layer (type)                   Output Shape         Param #     Connected to                     \n",
            "==================================================================================================\n",
            " input_1 (InputLayer)           [(None, None)]       0           []                               \n",
            "                                                                                                  \n",
            " embedding (Embedding)          (None, None, 256)    2967296     ['input_1[0][0]']                \n",
            "                                                                                                  \n",
            " input_2 (InputLayer)           [(None, None)]       0           []                               \n",
            "                                                                                                  \n",
            " bidirectional (Bidirectional)  [(None, 1024),       3149824     ['embedding[0][0]']              \n",
            "                                 (None, 512),                                                     \n",
            "                                 (None, 512),                                                     \n",
            "                                 (None, 512),                                                     \n",
            "                                 (None, 512)]                                                     \n",
            "                                                                                                  \n",
            " embedding_1 (Embedding)        (None, None, 256)    6850560     ['input_2[0][0]']                \n",
            "                                                                                                  \n",
            " tf.__operators__.add (TFOpLamb  (None, 512)         0           ['bidirectional[0][1]',          \n",
            " da)                                                              'bidirectional[0][3]']          \n",
            "                                                                                                  \n",
            " tf.__operators__.add_1 (TFOpLa  (None, 512)         0           ['bidirectional[0][2]',          \n",
            " mbda)                                                            'bidirectional[0][4]']          \n",
            "                                                                                                  \n",
            " lstm_1 (LSTM)                  [(None, None, 512),  1574912     ['embedding_1[0][0]',            \n",
            "                                 (None, 512),                     'tf.__operators__.add[0][0]',   \n",
            "                                 (None, 512)]                     'tf.__operators__.add_1[0][0]'] \n",
            "                                                                                                  \n",
            " dense (Dense)                  (None, None, 26760)  13727880    ['lstm_1[0][0]']                 \n",
            "                                                                                                  \n",
            " tf.nn.softmax (TFOpLambda)     (None, None, 26760)  0           ['dense[0][0]']                  \n",
            "                                                                                                  \n",
            "==================================================================================================\n",
            "Total params: 28,270,472\n",
            "Trainable params: 28,270,472\n",
            "Non-trainable params: 0\n",
            "__________________________________________________________________________________________________\n"
          ]
        }
      ]
    },
    {
      "cell_type": "code",
      "source": [
        "model.compile(optimizer='adam',loss='categorical_crossentropy')"
      ],
      "metadata": {
        "id": "HxfnoaTL2R0t"
      },
      "execution_count": null,
      "outputs": []
    },
    {
      "cell_type": "code",
      "source": [
        "history=model.fit(\n",
        "    x=generate_batch(X_train,y_train),\n",
        "    validation_data=generate_batch(X_valid,y_valid),\n",
        "    batch_size=batch_size,\n",
        "    epochs=5,\n",
        "    steps_per_epoch=len(X_train)//batch_size,\n",
        "    validation_steps=len(X_valid)//batch_size\n",
        ")"
      ],
      "metadata": {
        "colab": {
          "base_uri": "https://localhost:8080/"
        },
        "id": "AVq9Xmuv2VMQ",
        "outputId": "d5034846-62e9-4a00-b470-055fc06da751"
      },
      "execution_count": null,
      "outputs": [
        {
          "output_type": "stream",
          "name": "stdout",
          "text": [
            "Epoch 1/5\n",
            "48/48 [==============================] - 50s 730ms/step - loss: 1.4101 - val_loss: 1.3446\n",
            "Epoch 2/5\n",
            "48/48 [==============================] - 31s 643ms/step - loss: 1.2762 - val_loss: 1.2849\n",
            "Epoch 3/5\n",
            "48/48 [==============================] - 29s 592ms/step - loss: 1.3521 - val_loss: 1.3099\n",
            "Epoch 4/5\n",
            "48/48 [==============================] - 29s 589ms/step - loss: 1.3505 - val_loss: 1.3600\n",
            "Epoch 5/5\n",
            "48/48 [==============================] - 30s 630ms/step - loss: 1.2230 - val_loss: 1.3120\n"
          ]
        }
      ]
    },
    {
      "cell_type": "code",
      "source": [
        "encoder_model=tf.keras.models.Model(inputs=encoder_inputs,outputs=encoder_state)"
      ],
      "metadata": {
        "id": "MuifXVwH_VRr"
      },
      "execution_count": null,
      "outputs": []
    },
    {
      "cell_type": "code",
      "source": [
        "decoder_hidden_state=layers.Input(shape=(latent_dim,))\n",
        "decoder_cell_state=layers.Input(shape=(latent_dim,))\n",
        "decoder_init_state=[decoder_hidden_state,decoder_cell_state]\n",
        "decoder_embeddings=decoder_embedding_layer(decoder_inputs)\n",
        "decoder_output,decoder_output_hidden_state,decoder_output_cell_state=decoder_lstm(decoder_embeddings\n",
        "                                                                    ,initial_state=decoder_init_state)\n",
        "decoder_final_state=[decoder_output_hidden_state,decoder_output_cell_state]\n",
        "decoder_output=output_layer(decoder_output)\n",
        "decoder_probs=tf.nn.softmax(decoder_output)\n",
        "decoder_model=tf.keras.models.Model(inputs=[decoder_inputs]+decoder_init_state\n",
        "                                    ,outputs=[decoder_probs]+decoder_final_state)"
      ],
      "metadata": {
        "id": "6FQiFBIm_XVF"
      },
      "execution_count": null,
      "outputs": []
    },
    {
      "cell_type": "code",
      "source": [
        "encoder_model.summary()"
      ],
      "metadata": {
        "colab": {
          "base_uri": "https://localhost:8080/"
        },
        "id": "kmDjvQ_2_ZeA",
        "outputId": "0e118f13-699e-4738-8ba9-6b64f9ce6319"
      },
      "execution_count": null,
      "outputs": [
        {
          "output_type": "stream",
          "name": "stdout",
          "text": [
            "Model: \"model_1\"\n",
            "__________________________________________________________________________________________________\n",
            " Layer (type)                   Output Shape         Param #     Connected to                     \n",
            "==================================================================================================\n",
            " input_1 (InputLayer)           [(None, None)]       0           []                               \n",
            "                                                                                                  \n",
            " embedding (Embedding)          (None, None, 256)    2967296     ['input_1[0][0]']                \n",
            "                                                                                                  \n",
            " bidirectional (Bidirectional)  [(None, 1024),       3149824     ['embedding[0][0]']              \n",
            "                                 (None, 512),                                                     \n",
            "                                 (None, 512),                                                     \n",
            "                                 (None, 512),                                                     \n",
            "                                 (None, 512)]                                                     \n",
            "                                                                                                  \n",
            " tf.__operators__.add (TFOpLamb  (None, 512)         0           ['bidirectional[0][1]',          \n",
            " da)                                                              'bidirectional[0][3]']          \n",
            "                                                                                                  \n",
            " tf.__operators__.add_1 (TFOpLa  (None, 512)         0           ['bidirectional[0][2]',          \n",
            " mbda)                                                            'bidirectional[0][4]']          \n",
            "                                                                                                  \n",
            "==================================================================================================\n",
            "Total params: 6,117,120\n",
            "Trainable params: 6,117,120\n",
            "Non-trainable params: 0\n",
            "__________________________________________________________________________________________________\n"
          ]
        }
      ]
    },
    {
      "cell_type": "code",
      "source": [
        "decoder_model.summary()"
      ],
      "metadata": {
        "colab": {
          "base_uri": "https://localhost:8080/"
        },
        "id": "-gzFP25M_ctQ",
        "outputId": "51b86d6d-fc2f-436b-9b5a-4dd643aa9d64"
      },
      "execution_count": null,
      "outputs": [
        {
          "output_type": "stream",
          "name": "stdout",
          "text": [
            "Model: \"model_2\"\n",
            "__________________________________________________________________________________________________\n",
            " Layer (type)                   Output Shape         Param #     Connected to                     \n",
            "==================================================================================================\n",
            " input_2 (InputLayer)           [(None, None)]       0           []                               \n",
            "                                                                                                  \n",
            " embedding_1 (Embedding)        (None, None, 256)    6850560     ['input_2[0][0]']                \n",
            "                                                                                                  \n",
            " input_3 (InputLayer)           [(None, 512)]        0           []                               \n",
            "                                                                                                  \n",
            " input_4 (InputLayer)           [(None, 512)]        0           []                               \n",
            "                                                                                                  \n",
            " lstm_1 (LSTM)                  [(None, None, 512),  1574912     ['embedding_1[1][0]',            \n",
            "                                 (None, 512),                     'input_3[0][0]',                \n",
            "                                 (None, 512)]                     'input_4[0][0]']                \n",
            "                                                                                                  \n",
            " dense (Dense)                  (None, None, 26760)  13727880    ['lstm_1[1][0]']                 \n",
            "                                                                                                  \n",
            " tf.nn.softmax_1 (TFOpLambda)   (None, None, 26760)  0           ['dense[1][0]']                  \n",
            "                                                                                                  \n",
            "==================================================================================================\n",
            "Total params: 22,153,352\n",
            "Trainable params: 22,153,352\n",
            "Non-trainable params: 0\n",
            "__________________________________________________________________________________________________\n"
          ]
        }
      ]
    },
    {
      "cell_type": "code",
      "source": [
        "def generate_text(text):\n",
        "    translation=\"\"\n",
        "    states_value=encoder_model(text)\n",
        "    target=np.zeros((1,1))\n",
        "    target[0,0]=zulu_lookup_table['START_']\n",
        "    stop_condition=False\n",
        "    while not stop_condition:\n",
        "        output_token,hidden_state,cell_state=decoder_model([target]+states_value)\n",
        "        char_index=np.argmax(output_token[0,-1,:])\n",
        "        char=zulu_token_lookup_table[char_index]\n",
        "        if char=='_END' or len(translation)>=decoder_seq_length:\n",
        "            stop_condition=True\n",
        "            continue\n",
        "        translation+=' '+char\n",
        "        states_value=[hidden_state,cell_state]\n",
        "        target[0,0]=zulu_lookup_table[char]\n",
        "    return translation"
      ],
      "metadata": {
        "id": "zNgI3gMv_dh6"
      },
      "execution_count": null,
      "outputs": []
    },
    {
      "cell_type": "code",
      "source": [
        "text_gen=generate_batch(X_valid,y_valid,batch_size=1)\n",
        "text_gen\n",
        "k=-1"
      ],
      "metadata": {
        "id": "gg0EITPI_9pW"
      },
      "execution_count": null,
      "outputs": []
    },
    {
      "cell_type": "code",
      "source": [
        "pd.DataFrame(history.history).plot()\n",
        "plt.title(\"Loss\")\n",
        "plt.show()"
      ],
      "metadata": {
        "colab": {
          "base_uri": "https://localhost:8080/",
          "height": 281
        },
        "id": "IQZftcHpbs3n",
        "outputId": "ab9e87ea-5537-45d3-bd57-8c5e3e0bb975"
      },
      "execution_count": null,
      "outputs": [
        {
          "output_type": "display_data",
          "data": {
            "text/plain": [
              "<Figure size 432x288 with 1 Axes>"
            ],
            "image/png": "[encoded data removed]"
          },
          "metadata": {
            "needs_background": "light"
          }
        }
      ]
    },
    {
      "cell_type": "code",
      "source": [
        "k+=1\n",
        "[encoder_inputs,decoder_inputs],decoder_target=next(text_gen)\n",
        "print(f'Input sentence: {X_valid[k:k+1][0]}')\n",
        "print(f'Actual translation: {y_valid[k:k+1][0][5:-5]}')\n",
        "print(f\"Model's translation: {generate_text(encoder_inputs)}\" )"
      ],
      "metadata": {
        "colab": {
          "base_uri": "https://localhost:8080/"
        },
        "id": "brMx30bIABjY",
        "outputId": "0d4ab106-a06c-4b0a-8f91-1ed7edeeb270"
      },
      "execution_count": null,
      "outputs": [
        {
          "output_type": "stream",
          "name": "stdout",
          "text": [
            "Input sentence: senate considered a number of significant matters during\n",
            "Actual translation: _ izigele zidingide izindaba eziningi ezibalulekile kunyaka wezi\n",
            "Model's translation:  • ukuthi\n"
          ]
        }
      ]
    },
    {
      "cell_type": "code",
      "source": [
        "from nltk.translate.bleu_score import sentence_bleu\n",
        "test_eng_texts = [pair[0] for pair in y_valid]\n",
        "test_zul_texts = [pair[1] for pair in y_valid]\n",
        "score = 0\n",
        "bleu  = 0\n",
        "for i in range(10):\n",
        "    \n",
        "    candidate = y_valid[i]\n",
        "    \n",
        "    reference = test_zul_texts[i].lower()\n",
        "    print(candidate,reference)\n",
        "    score = sentence_bleu(reference, candidate, weights=(1, 0, 0, 0))\n",
        "    bleu+=score\n",
        "    print(f\"Score:{score}\")\n",
        "print(f\"\\nBLEU score : {round(bleu,2)}/10\")"
      ],
      "metadata": {
        "colab": {
          "base_uri": "https://localhost:8080/"
        },
        "id": "R1Y_SRkyJM4x",
        "outputId": "cc180e01-e55a-48b7-c33c-311c30c75309"
      },
      "execution_count": null,
      "outputs": [
        {
          "output_type": "stream",
          "name": "stdout",
          "text": [
            "START_ izigele zidingide izindaba eziningi ezibalulekile kunyaka wezi _END t\n",
            "Score:0\n",
            "START_ njengoba luxhaswe yibristolmyers squibb foundation bmsf abaphenyi abakhulu balolu hlelo udkt themba ginindza onguthisha eukzn futhi ofundele ukuhlola ukusabalala nokulawulwa kwezifo nomqondisi wezokwelapha weampath oncology and haematology programme emoi university ekenya usolwazi chite asirwe _END t\n",
            "Score:0.0032679738562091504\n",
            "START_ uhlelo lwasemini belunezinhlelo ebezibanjelwe emitapweni yolwazi emine esemiphakathini austerville westville chesterville extension nasothongathi _END t\n",
            "Score:0.006369426751592359\n",
            "START_ lezi ezinye zezinhlelo zangonyaka wezi _END t\n",
            "Score:0\n",
            "START_ inyuvesi ikleliswe yaba ngeyama kwiemerging economies ranking yethe _END t\n",
            "Score:0.012658227848101266\n",
            "START_ uhlaka lokubuyekezwa kwezinqubomgomo ludingidiwe futhi lagunyazwa iemc nekomidi lezokuqasha _END t\n",
            "Score:0.009708737864077669\n",
            "START_ ukubona ngokufanele izimpilo zezingane okuholela ekuqondeni kwabasesifundeni nakuzwelonke mayelana nezindaba zezingane _END t\n",
            "Score:0\n",
            "START_ “ngangifake isicelo sokuthi ngibe yingxenye yalo mqhudelwano kodwa ke ngehluleka ukuba ngomunye wabane abaqokwayo _END t\n",
            "Score:0.007999999999999997\n",
            "START_ imifanekiso kuyona yonke imidwebomicabango _END t\n",
            "Score:0\n",
            "START_ hlolisisa okuqedwa kufakelwa futhi wenze isivivinyo ukuze uhlole imigomo _END t\n",
            "Score:0.011904761904761908\n",
            "\n",
            "BLEU score : 0.05/10\n"
          ]
        }
      ]
    }
  ]
}